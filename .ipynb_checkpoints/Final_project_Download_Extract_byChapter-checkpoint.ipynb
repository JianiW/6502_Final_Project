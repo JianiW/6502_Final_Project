{
 "cells": [
  {
   "cell_type": "code",
   "execution_count": 1,
   "id": "e9189c72",
   "metadata": {},
   "outputs": [],
   "source": [
    "## Importing libraries to download pdf\n",
    "import requests\n",
    "from bs4 import BeautifulSoup\n",
    "import re"
   ]
  },
  {
   "cell_type": "code",
   "execution_count": 16,
   "id": "f0945f0c",
   "metadata": {},
   "outputs": [],
   "source": [
    "url = \"https://www.ipcc.ch/report/ar6/wg3/\"\n",
    "response = requests.get(url)\n",
    "soup = BeautifulSoup(response.content, \"html.parser\")\n",
    "\n",
    "pdf_links = soup.select('a[href$=\".pdf\"]')\n",
    "for link in pdf_links:\n",
    "    href = link['href']\n",
    "    file_name = href.split('/')[-1]\n",
    "    with open(file_name, 'wb') as f:\n",
    "        f.write(requests.get(href).content)"
   ]
  },
  {
   "cell_type": "code",
   "execution_count": 17,
   "id": "a3465cce",
   "metadata": {},
   "outputs": [
    {
     "name": "stdout",
     "output_type": "stream",
     "text": [
      "Final_project_Downloading_PDF.ipynb  IPCC_AR6_WGIII_Chapter12_SM.pdf\r\n",
      "IPCC_AR6_WGIII_Chapter02_SM.pdf      IPCC_AR6_WGIII_Chapter17_SM.pdf\r\n",
      "IPCC_AR6_WGIII_Chapter04_SM.pdf      IPCC_AR6_WGIII_Errata.pdf\r\n",
      "IPCC_AR6_WGIII_Chapter05_SM.pdf      IPCC_AR6_WGIII_FullReport.pdf\r\n",
      "IPCC_AR6_WGIII_Chapter06_SM.pdf      IPCC_AR6_WGIII_Index.pdf\r\n",
      "IPCC_AR6_WGIII_Chapter08_SM.pdf      README.md\r\n",
      "IPCC_AR6_WGIII_Chapter09_SM.pdf      project_proposal.md\r\n"
     ]
    }
   ],
   "source": [
    "## checking if all the pdfs are downloaded\n",
    "ls"
   ]
  },
  {
   "cell_type": "code",
   "execution_count": 22,
   "id": "71709309",
   "metadata": {},
   "outputs": [],
   "source": [
    "import PyPDF2\n",
    "from PyPDF2 import PdfReader"
   ]
  },
  {
   "cell_type": "code",
   "execution_count": null,
   "id": "446404c8",
   "metadata": {},
   "outputs": [],
   "source": [
    "# Create a PDF reader object\n",
    "pdf_reader = PyPDF2.PdfReader('IPCC_AR6_WGIII_FullReport.pdf', 'rb')\n",
    "\n",
    "# Get the number of pages in the PDF file\n",
    "num_pages = len(reader.pages)\n",
    "\n",
    "# Create a blank string variable to store the text\n",
    "text = \"\"\n",
    "\n",
    "# Iterate through each page and extract the text\n",
    "for page in range(num_pages):\n",
    "    pdf_page = reader.pages[page]\n",
    "    text += pdf_page.extract_text()\n",
    "\n",
    "# Save the extracted text to a text file\n",
    "output_file = 'IPCC_AR6_WGIII_FullReport.txt'\n",
    "with open(output_file, 'w', encoding='utf-8') as f:\n",
    "    f.write(text)\n",
    "\n",
    "print(\"Text extracted and saved to\", output_file)"
   ]
  },
  {
   "cell_type": "code",
   "execution_count": 29,
   "id": "0af65be4",
   "metadata": {},
   "outputs": [
    {
     "name": "stdout",
     "output_type": "stream",
     "text": [
      "{'/ArtBox': [0, 0, 612, 792], '/BleedBox': [0, 0, 612, 792], '/Contents': [IndirectObject(71891, 0, 140205645319904), IndirectObject(71892, 0, 140205645319904), IndirectObject(71893, 0, 140205645319904), IndirectObject(71894, 0, 140205645319904), IndirectObject(71895, 0, 140205645319904), IndirectObject(71896, 0, 140205645319904), IndirectObject(71897, 0, 140205645319904), IndirectObject(71898, 0, 140205645319904)], '/CropBox': [0, 0, 612, 792], '/MediaBox': [0, 0, 612, 792], '/Parent': IndirectObject(67675, 0, 140205645319904), '/Resources': {'/ColorSpace': {'/CS0': IndirectObject(71882, 0, 140205645319904)}, '/ExtGState': {'/GS0': IndirectObject(71889, 0, 140205645319904), '/GS1': IndirectObject(71890, 0, 140205645319904)}, '/Font': {'/T1_0': IndirectObject(70249, 0, 140205645319904), '/T1_1': IndirectObject(70250, 0, 140205645319904), '/T1_2': IndirectObject(70251, 0, 140205645319904)}, '/ProcSet': ['/PDF', '/Text', '/ImageC'], '/Properties': {'/MC0': IndirectObject(71884, 0, 140205645319904)}, '/XObject': {'/Im0': IndirectObject(71881, 0, 140205645319904)}}, '/Rotate': 0, '/TrimBox': [0, 0, 612, 792], '/Type': '/Page'}\n"
     ]
    }
   ],
   "source": []
  },
  {
   "cell_type": "code",
   "execution_count": null,
   "id": "c789f0cd",
   "metadata": {},
   "outputs": [],
   "source": []
  }
 ],
 "metadata": {
  "kernelspec": {
   "display_name": "Python 3 (ipykernel)",
   "language": "python",
   "name": "python3"
  },
  "language_info": {
   "codemirror_mode": {
    "name": "ipython",
    "version": 3
   },
   "file_extension": ".py",
   "mimetype": "text/x-python",
   "name": "python",
   "nbconvert_exporter": "python",
   "pygments_lexer": "ipython3",
   "version": "3.9.13"
  }
 },
 "nbformat": 4,
 "nbformat_minor": 5
}
