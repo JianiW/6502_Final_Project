{
 "cells": [
  {
   "cell_type": "code",
   "execution_count": null,
   "id": "4d88f672",
   "metadata": {},
   "outputs": [],
   "source": [
    "## Importing libraries to download pdf\n",
    "import requests\n",
    "from bs4 import BeautifulSoup\n",
    "import re"
   ]
  },
  {
   "cell_type": "code",
   "execution_count": null,
   "id": "c86f48b5",
   "metadata": {},
   "outputs": [],
   "source": [
    "url = \"https://www.ipcc.ch/report/ar6/wg3/\"\n",
    "response = requests.get(url)\n",
    "soup = BeautifulSoup(response.content, \"html.parser\")\n",
    "\n",
    "pdf_links = soup.select('a[href$=\".pdf\"]')\n",
    "for link in pdf_links:\n",
    "    href = link['href']\n",
    "    file_name = href.split('/')[-1]\n",
    "    with open(file_name, 'wb') as f:\n",
    "        f.write(requests.get(href).content)"
   ]
  },
  {
   "cell_type": "code",
   "execution_count": null,
   "id": "73a0efb2",
   "metadata": {},
   "outputs": [],
   "source": [
    "## checking if all the pdfs are downloaded\n",
    "ls"
   ]
  },
  {
   "cell_type": "code",
   "execution_count": null,
   "id": "c8f7c04a",
   "metadata": {},
   "outputs": [],
   "source": [
    "## Extract pdf\n",
    "import PyPDF2\n",
    "from PyPDF2 import PdfReader"
   ]
  },
  {
   "cell_type": "code",
   "execution_count": null,
   "id": "099809fa",
   "metadata": {},
   "outputs": [],
   "source": [
    "# Create a PDF reader object\n",
    "pdf_reader = PyPDF2.PdfReader('IPCC_AR6_WGIII_FullReport.pdf', 'rb')"
   ]
  },
  {
   "cell_type": "code",
   "execution_count": null,
   "id": "f1733b3b",
   "metadata": {},
   "outputs": [],
   "source": [
    "num_pages = len(pdf_reader.pages)\n",
    "print(len(pdf_reader.pages))"
   ]
  },
  {
   "cell_type": "code",
   "execution_count": null,
   "id": "2c5ca3c9",
   "metadata": {},
   "outputs": [],
   "source": [
    "text = \"\"\n",
    "for page in range(num_pages):\n",
    "    pdf_page = pdf_reader.pages[page]\n",
    "    text += pdf_page.extract_text()"
   ]
  },
  {
   "cell_type": "code",
   "execution_count": null,
   "id": "d114418b",
   "metadata": {},
   "outputs": [],
   "source": [
    "output_file = 'IPCC_AR6_WGIII_FullReport.txt'\n",
    "with open(output_file, 'w', encoding='utf-8') as f:\n",
    "    f.write(text)\n",
    "\n",
    "print(\"Text extracted and saved to\", output_file)"
   ]
  }
 ],
 "metadata": {
  "kernelspec": {
   "display_name": "Python 3 (ipykernel)",
   "language": "python",
   "name": "python3"
  },
  "language_info": {
   "codemirror_mode": {
    "name": "ipython",
    "version": 3
   },
   "file_extension": ".py",
   "mimetype": "text/x-python",
   "name": "python",
   "nbconvert_exporter": "python",
   "pygments_lexer": "ipython3",
   "version": "3.9.13"
  }
 },
 "nbformat": 4,
 "nbformat_minor": 5
}
