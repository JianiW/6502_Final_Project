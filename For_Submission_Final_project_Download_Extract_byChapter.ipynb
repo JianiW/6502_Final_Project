{
 "cells": [
  {
   "cell_type": "code",
   "execution_count": 1,
   "id": "e9189c72",
   "metadata": {},
   "outputs": [],
   "source": [
    "## Importing libraries to download pdf\n",
    "import requests\n",
    "from bs4 import BeautifulSoup\n",
    "import re"
   ]
  },
  {
   "cell_type": "code",
   "execution_count": 16,
   "id": "f0945f0c",
   "metadata": {},
   "outputs": [],
   "source": [
    "## The following code is referenced from \"https://www.google.com/url?q=https://www.geeksforgeeks.org/downloading-pdfs-with-python-using-requests-and-beautifulsoup/&sa=D&source=docs&ust=1681670025773146&usg=AOvVaw2kiguF-w_aUhMPILIKYUh1\"\n",
    "\n",
    "url = \"https://www.ipcc.ch/report/ar6/wg3/\"\n",
    "response = requests.get(url)\n",
    "soup = BeautifulSoup(response.content, \"html.parser\")\n",
    "\n",
    "pdf_links = soup.select('a[href$=\".pdf\"]')\n",
    "for link in pdf_links:\n",
    "    href = link['href']\n",
    "    file_name = href.split('/')[-1]\n",
    "    with open(file_name, 'wb') as f:\n",
    "        f.write(requests.get(href).content)"
   ]
  },
  {
   "cell_type": "code",
   "execution_count": 17,
   "id": "a3465cce",
   "metadata": {},
   "outputs": [
    {
     "name": "stdout",
     "output_type": "stream",
     "text": [
      "Final_project_Downloading_PDF.ipynb  IPCC_AR6_WGIII_Chapter12_SM.pdf\r\n",
      "IPCC_AR6_WGIII_Chapter02_SM.pdf      IPCC_AR6_WGIII_Chapter17_SM.pdf\r\n",
      "IPCC_AR6_WGIII_Chapter04_SM.pdf      IPCC_AR6_WGIII_Errata.pdf\r\n",
      "IPCC_AR6_WGIII_Chapter05_SM.pdf      IPCC_AR6_WGIII_FullReport.pdf\r\n",
      "IPCC_AR6_WGIII_Chapter06_SM.pdf      IPCC_AR6_WGIII_Index.pdf\r\n",
      "IPCC_AR6_WGIII_Chapter08_SM.pdf      README.md\r\n",
      "IPCC_AR6_WGIII_Chapter09_SM.pdf      project_proposal.md\r\n"
     ]
    }
   ],
   "source": [
    "## checking if all the pdfs are downloaded\n",
    "ls"
   ]
  },
  {
   "cell_type": "code",
   "execution_count": 1,
   "id": "71709309",
   "metadata": {},
   "outputs": [],
   "source": [
    "## Extract PDF to text\n",
    "import PyPDF2\n",
    "from PyPDF2 import PdfReader\n",
    "import re"
   ]
  },
  {
   "cell_type": "code",
   "execution_count": 2,
   "id": "ce65bc3f",
   "metadata": {},
   "outputs": [],
   "source": [
    "# Create a PDF reader object\n",
    "pdf_reader = PyPDF2.PdfReader('IPCC_AR6_WGIII_FullReport.pdf', 'rb')"
   ]
  },
  {
   "cell_type": "code",
   "execution_count": 3,
   "id": "a9ef1a1f",
   "metadata": {},
   "outputs": [
    {
     "name": "stdout",
     "output_type": "stream",
     "text": [
      "Text extracted and saved\n"
     ]
    }
   ],
   "source": [
    "# Given the reports are very long, we will break down the report by chapters\n",
    "## Extract for Summary for Policymakers\n",
    "chapter_policymaker_start = 16\n",
    "chapter_policymaker_end = 61\n",
    "\n",
    "chapter_policymaker_text = ''\n",
    "for page in range(chapter_policymaker_start, chapter_policymaker_end + 1):\n",
    "    pdf_page = pdf_reader.pages[page]\n",
    "    page_text = pdf_page.extract_text()\n",
    "    # excluding any text that start with footnote number\n",
    "    page_text = re.sub(r'^\\d+\\s.*$', '', page_text, flags=re.MULTILINE)\n",
    "    chapter_policymaker_text += page_text\n",
    "    \n",
    "with open('chapter_policymaker.txt', 'w') as f:\n",
    "    f.write(chapter_policymaker_text)\n",
    "print(\"Text extracted and saved\")"
   ]
  },
  {
   "cell_type": "code",
   "execution_count": 5,
   "id": "385b3df1",
   "metadata": {},
   "outputs": [
    {
     "name": "stdout",
     "output_type": "stream",
     "text": [
      "Text extracted and saved\n"
     ]
    }
   ],
   "source": [
    "## Extract for Introduction (Chapter 1)\n",
    "## the page is depending on the pdf file pages but not the labeled page\n",
    "chapter_intro_start = 166\n",
    "chapter_intro_end = 205\n",
    "\n",
    "chapter_intro_text = ''\n",
    "for page in range(chapter_intro_start - 1, chapter_intro_end + 1):\n",
    "    pdf_page = pdf_reader.pages[page]\n",
    "    page_text = pdf_page.extract_text()\n",
    "    # excluding any text that start with footnote number\n",
    "    page_text = re.sub(r'^\\d+\\s.*$', '', page_text, flags=re.MULTILINE)\n",
    "    chapter_intro_text += page_text\n",
    "    \n",
    "with open('chapter_intro.txt', 'w') as f:\n",
    "    f.write(chapter_intro_text)\n",
    "print(\"Text extracted and saved\")"
   ]
  },
  {
   "cell_type": "code",
   "execution_count": 10,
   "id": "bbde8f00",
   "metadata": {},
   "outputs": [
    {
     "name": "stdout",
     "output_type": "stream",
     "text": [
      "Text extracted and saved\n"
     ]
    }
   ],
   "source": [
    "## Extract for Mitigation Pathway (Chapter 2 - 5)\n",
    "chapter_mitigation_start = 230\n",
    "chapter_mitigation_end = 633\n",
    "\n",
    "chapter_mitigation_text = ''\n",
    "for page in range(chapter_mitigation_start - 1, chapter_mitigation_end + 1):\n",
    "    pdf_page = pdf_reader.pages[page]\n",
    "    page_text = pdf_page.extract_text()\n",
    "    # excluding any text that start with footnote number\n",
    "    page_text = re.sub(r'^\\d+\\s.*$', '', page_text, flags=re.MULTILINE)\n",
    "    chapter_mitigation_text += page_text\n",
    "    \n",
    "with open('chapter_mitigation.txt', 'w') as f:\n",
    "    f.write(chapter_mitigation_text)\n",
    "print(\"Text extracted and saved\")"
   ]
  },
  {
   "cell_type": "code",
   "execution_count": 11,
   "id": "446404c8",
   "metadata": {},
   "outputs": [
    {
     "name": "stdout",
     "output_type": "stream",
     "text": [
      "Text extracted and saved\n"
     ]
    }
   ],
   "source": [
    "## Extract for Energy System (Chapter 6)\n",
    "chapter_Energy_System_start = 729\n",
    "chapter_Energy_System_end = 820\n",
    "\n",
    "chapter_Energy_System_text = ''\n",
    "for page in range(chapter_Energy_System_start - 1, chapter_Energy_System_end + 1):\n",
    "    pdf_page = pdf_reader.pages[page]\n",
    "    page_text = pdf_page.extract_text()\n",
    "    # excluding any text that start with footnote number\n",
    "    page_text = re.sub(r'^\\d+\\s.*$', '', page_text, flags=re.MULTILINE)\n",
    "    chapter_Energy_System_text += page_text\n",
    "    \n",
    "with open('chapter_Energy_System.txt', 'w') as f:\n",
    "    f.write(chapter_Energy_System_text)\n",
    "print(\"Text extracted and saved\")"
   ]
  },
  {
   "cell_type": "code",
   "execution_count": 13,
   "id": "c789f0cd",
   "metadata": {},
   "outputs": [
    {
     "name": "stdout",
     "output_type": "stream",
     "text": [
      "Text extracted and saved\n"
     ]
    }
   ],
   "source": [
    "## Extract for AFLOU (Chapter 7)\n",
    "chapter_AFLOU_start = 887\n",
    "chapter_AFLOU_end = 967\n",
    "\n",
    "chapter_AFLOU_text = ''\n",
    "for page in range(chapter_AFLOU_start - 1, chapter_AFLOU_end + 1):\n",
    "    pdf_page = pdf_reader.pages[page]\n",
    "    page_text = pdf_page.extract_text()\n",
    "    # excluding any text that start with footnote number\n",
    "    page_text = re.sub(r'^\\d+\\s.*$', '', page_text, flags=re.MULTILINE)\n",
    "    chapter_AFLOU_text += page_text\n",
    "    \n",
    "with open('chapter_AFLOU.txt', 'w') as f:\n",
    "    f.write(chapter_AFLOU_text)\n",
    "print(\"Text extracted and saved\")"
   ]
  },
  {
   "cell_type": "code",
   "execution_count": 14,
   "id": "772c9a27",
   "metadata": {},
   "outputs": [
    {
     "name": "stdout",
     "output_type": "stream",
     "text": [
      "Text extracted and saved\n"
     ]
    }
   ],
   "source": [
    "## Extract for Urban System (Chapter 8)\n",
    "chapter_Urban_System_start = 1000\n",
    "chapter_Urban_System_end = 1063\n",
    "\n",
    "chapter_Urban_System_text = ''\n",
    "for page in range(chapter_Urban_System_start - 1, chapter_Urban_System_end + 1):\n",
    "    pdf_page = pdf_reader.pages[page]\n",
    "    page_text = pdf_page.extract_text()\n",
    "    # excluding any text that start with footnote number\n",
    "    page_text = re.sub(r'^\\d+\\s.*$', '', page_text, flags=re.MULTILINE)\n",
    "    chapter_Urban_System_text += page_text\n",
    "    \n",
    "with open('chapter_Urban_System.txt', 'w') as f:\n",
    "    f.write(chapter_Urban_System_text)\n",
    "print(\"Text extracted and saved\")"
   ]
  },
  {
   "cell_type": "code",
   "execution_count": 16,
   "id": "a37c2aa8",
   "metadata": {},
   "outputs": [
    {
     "name": "stdout",
     "output_type": "stream",
     "text": [
      "Text extracted and saved\n"
     ]
    }
   ],
   "source": [
    "## Extract for Building (Chapter 9)\n",
    "chapter_Building_start = 1123\n",
    "chapter_Building_end = 1185\n",
    "\n",
    "chapter_Building_text = ''\n",
    "for page in range(chapter_Building_start - 1, chapter_Building_end + 1):\n",
    "    pdf_page = pdf_reader.pages[page]\n",
    "    page_text = pdf_page.extract_text()\n",
    "    # excluding any text that start with footnote number\n",
    "    page_text = re.sub(r'^\\d+\\s.*$', '', page_text, flags=re.MULTILINE)\n",
    "    chapter_Building_text += page_text\n",
    "    \n",
    "with open('chapter_Building.txt', 'w') as f:\n",
    "    f.write(chapter_Building_text)\n",
    "print(\"Text extracted and saved\")"
   ]
  },
  {
   "cell_type": "code",
   "execution_count": 17,
   "id": "b2446d10",
   "metadata": {},
   "outputs": [
    {
     "name": "stdout",
     "output_type": "stream",
     "text": [
      "Text extracted and saved\n"
     ]
    }
   ],
   "source": [
    "## Extract for Transport (Chapter 10)\n",
    "chapter_Transport_start = 1258\n",
    "chapter_Transport_end = 1324\n",
    "\n",
    "chapter_Transport_text = ''\n",
    "for page in range(chapter_Transport_start - 1, chapter_Transport_end + 1):\n",
    "    pdf_page = pdf_reader.pages[page]\n",
    "    page_text = pdf_page.extract_text()\n",
    "    # excluding any text that start with footnote number\n",
    "    page_text = re.sub(r'^\\d+\\s.*$', '', page_text, flags=re.MULTILINE)\n",
    "    chapter_Transport_text += page_text\n",
    "    \n",
    "with open('chapter_Transport.txt', 'w') as f:\n",
    "    f.write(chapter_Transport_text)\n",
    "print(\"Text extracted and saved\")"
   ]
  },
  {
   "cell_type": "code",
   "execution_count": 18,
   "id": "1de551b5",
   "metadata": {},
   "outputs": [
    {
     "name": "stdout",
     "output_type": "stream",
     "text": [
      "Text extracted and saved\n"
     ]
    }
   ],
   "source": [
    "## Extract for Industry (Chapter 11)\n",
    "chapter_Industry_start = 1369\n",
    "chapter_Industry_end = 1429\n",
    "\n",
    "chapter_Industry_text = ''\n",
    "for page in range(chapter_Industry_start - 1, chapter_Industry_end + 1):\n",
    "    pdf_page = pdf_reader.pages[page]\n",
    "    page_text = pdf_page.extract_text()\n",
    "    # excluding any text that start with footnote number\n",
    "    page_text = re.sub(r'^\\d+\\s.*$', '', page_text, flags=re.MULTILINE)\n",
    "    chapter_Industry_text += page_text\n",
    "    \n",
    "with open('chapter_Industry.txt', 'w') as f:\n",
    "    f.write(chapter_Industry_text)\n",
    "print(\"Text extracted and saved\")"
   ]
  },
  {
   "cell_type": "code",
   "execution_count": 19,
   "id": "561fbcfd",
   "metadata": {},
   "outputs": [
    {
     "name": "stdout",
     "output_type": "stream",
     "text": [
      "Text extracted and saved\n"
     ]
    }
   ],
   "source": [
    "## Extract for Cross-sectoral (Chapter 12)\n",
    "chapter_Cross_sectoral_start = 1453\n",
    "chapter_Cross_sectoral_end = 1527\n",
    "\n",
    "chapter_Cross_sectoral_text = ''\n",
    "for page in range(chapter_Cross_sectoral_start - 1, chapter_Cross_sectoral_end + 1):\n",
    "    pdf_page = pdf_reader.pages[page]\n",
    "    page_text = pdf_page.extract_text()\n",
    "    # excluding any text that start with footnote number\n",
    "    page_text = re.sub(r'^\\d+\\s.*$', '', page_text, flags=re.MULTILINE)\n",
    "    chapter_Cross_sectoral_text += page_text\n",
    "    \n",
    "with open('chapter_Cross_sectoral.txt', 'w') as f:\n",
    "    f.write(chapter_Cross_sectoral_text)\n",
    "print(\"Text extracted and saved\")"
   ]
  },
  {
   "cell_type": "code",
   "execution_count": 20,
   "id": "c22f0006",
   "metadata": {},
   "outputs": [
    {
     "name": "stdout",
     "output_type": "stream",
     "text": [
      "Text extracted and saved\n"
     ]
    }
   ],
   "source": [
    "## Extract for National Policies  (Chapter 13)\n",
    "chapter_national_policies_start = 1578\n",
    "chapter_national_policies_end = 1632\n",
    "\n",
    "chapter_national_policies_text = ''\n",
    "for page in range(chapter_national_policies_start - 1, chapter_national_policies_end + 1):\n",
    "    pdf_page = pdf_reader.pages[page]\n",
    "    page_text = pdf_page.extract_text()\n",
    "    # excluding any text that start with footnote number\n",
    "    page_text = re.sub(r'^\\d+\\s.*$', '', page_text, flags=re.MULTILINE)\n",
    "    chapter_national_policies_text += page_text\n",
    "    \n",
    "with open('chapter_national_policies.txt', 'w') as f:\n",
    "    f.write(chapter_national_policies_text)\n",
    "print(\"Text extracted and saved\")"
   ]
  },
  {
   "cell_type": "code",
   "execution_count": 21,
   "id": "96453175",
   "metadata": {},
   "outputs": [
    {
     "name": "stdout",
     "output_type": "stream",
     "text": [
      "Text extracted and saved\n"
     ]
    }
   ],
   "source": [
    "## Extract for International Cooperation  (Chapter 14)\n",
    "chapter_intl_coop_start = 1673\n",
    "chapter_intl_coop_end = 1736\n",
    "\n",
    "chapter_intl_coop_text = ''\n",
    "for page in range(chapter_intl_coop_start - 1, chapter_intl_coop_end + 1):\n",
    "    pdf_page = pdf_reader.pages[page]\n",
    "    page_text = pdf_page.extract_text()\n",
    "    # excluding any text that start with footnote number\n",
    "    page_text = re.sub(r'^\\d+\\s.*$', '', page_text, flags=re.MULTILINE)\n",
    "    chapter_intl_coop_text += page_text\n",
    "    \n",
    "with open('chapter_intl_coop.txt', 'w') as f:\n",
    "    f.write(chapter_intl_coop_text)\n",
    "print(\"Text extracted and saved\")"
   ]
  },
  {
   "cell_type": "code",
   "execution_count": 22,
   "id": "7d7f9bbf",
   "metadata": {},
   "outputs": [
    {
     "name": "stdout",
     "output_type": "stream",
     "text": [
      "Text extracted and saved\n"
     ]
    }
   ],
   "source": [
    "## Extract for Investment  (Chapter 15)\n",
    "chapter_Investment_start = 1769\n",
    "chapter_Investment_end = 1829\n",
    "\n",
    "chapter_Investment_text = ''\n",
    "for page in range(chapter_Investment_start - 1, chapter_Investment_end + 1):\n",
    "    pdf_page = pdf_reader.pages[page]\n",
    "    page_text = pdf_page.extract_text()\n",
    "    # excluding any text that start with footnote number\n",
    "    page_text = re.sub(r'^\\d+\\s.*$', '', page_text, flags=re.MULTILINE)\n",
    "    chapter_Investment_text += page_text\n",
    "    \n",
    "with open('chapter_Investment.txt', 'w') as f:\n",
    "    f.write(chapter_Investment_text)\n",
    "print(\"Text extracted and saved\")"
   ]
  },
  {
   "cell_type": "code",
   "execution_count": 23,
   "id": "5e3e2150",
   "metadata": {},
   "outputs": [
    {
     "name": "stdout",
     "output_type": "stream",
     "text": [
      "Text extracted and saved\n"
     ]
    }
   ],
   "source": [
    "## Extract for Innovation  (Chapter 16)\n",
    "chapter_innovation_start = 1864\n",
    "chapter_innovation_end = 1920\n",
    "\n",
    "chapter_innovation_text = ''\n",
    "for page in range(chapter_innovation_start - 1, chapter_innovation_end + 1):\n",
    "    pdf_page = pdf_reader.pages[page]\n",
    "    page_text = pdf_page.extract_text()\n",
    "    # excluding any text that start with footnote number\n",
    "    page_text = re.sub(r'^\\d+\\s.*$', '', page_text, flags=re.MULTILINE)\n",
    "    chapter_innovation_text += page_text\n",
    "    \n",
    "with open('chapter_innovation.txt', 'w') as f:\n",
    "    f.write(chapter_innovation_text)\n",
    "print(\"Text extracted and saved\")"
   ]
  },
  {
   "cell_type": "code",
   "execution_count": 24,
   "id": "3a24f652",
   "metadata": {},
   "outputs": [
    {
     "name": "stdout",
     "output_type": "stream",
     "text": [
      "Text extracted and saved\n"
     ]
    }
   ],
   "source": [
    "## Extract for Sus_Development  (Chapter 17)\n",
    "chapter_Sus_Dev_start = 1949\n",
    "chapter_Sus_Dev_end = 1991\n",
    "\n",
    "chapter_Sus_Dev_text = ''\n",
    "for page in range(chapter_Sus_Dev_start - 1, chapter_Sus_Dev_end + 1):\n",
    "    pdf_page = pdf_reader.pages[page]\n",
    "    page_text = pdf_page.extract_text()\n",
    "    # excluding any text that start with footnote number\n",
    "    page_text = re.sub(r'^\\d+\\s.*$', '', page_text, flags=re.MULTILINE)\n",
    "    chapter_Sus_Dev_text += page_text\n",
    "    \n",
    "with open('chapter_Sus_Dev.txt', 'w') as f:\n",
    "    f.write(chapter_Sus_Dev_text)\n",
    "print(\"Text extracted and saved\")"
   ]
  },
  {
   "cell_type": "code",
   "execution_count": null,
   "id": "ff4ef9c1",
   "metadata": {},
   "outputs": [],
   "source": []
  },
  {
   "cell_type": "code",
   "execution_count": null,
   "id": "03453e7f",
   "metadata": {},
   "outputs": [],
   "source": []
  },
  {
   "cell_type": "code",
   "execution_count": null,
   "id": "f9d7d90d",
   "metadata": {},
   "outputs": [],
   "source": []
  }
 ],
 "metadata": {
  "kernelspec": {
   "display_name": "Python 3 (ipykernel)",
   "language": "python",
   "name": "python3"
  },
  "language_info": {
   "codemirror_mode": {
    "name": "ipython",
    "version": 3
   },
   "file_extension": ".py",
   "mimetype": "text/x-python",
   "name": "python",
   "nbconvert_exporter": "python",
   "pygments_lexer": "ipython3",
   "version": "3.9.13"
  }
 },
 "nbformat": 4,
 "nbformat_minor": 5
}
